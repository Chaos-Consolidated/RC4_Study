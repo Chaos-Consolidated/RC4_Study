{
 "cells": [
  {
   "cell_type": "markdown",
   "id": "cbb534df-69b3-4df8-8aae-4952a02ae598",
   "metadata": {},
   "source": [
    "# RC4 Implementation in Python\n",
    "\n",
    "Implementation of RC4 encryption in Python 3. \n",
    "\n",
    "## Creating Key:\n",
    "\n",
    "It is common for keys to be stored in a hexadecimal format. If the key starts in plaintext, it will need to be converted to a list of bytes. In this instance, the **keylength** is the number of bytes in the key."
   ]
  },
  {
   "cell_type": "code",
   "execution_count": 1,
   "id": "480ff41d-8ea4-4a58-9606-df48f81bc9e7",
   "metadata": {},
   "outputs": [
    {
     "name": "stdout",
     "output_type": "stream",
     "text": [
      "Key value in hex bytes:\n",
      "0x530x650x630x720x650x74\n",
      "Keylength in bytes: 6\n"
     ]
    }
   ],
   "source": [
    "key: bytes = b\"Secret\" # Store key value as bytes.\n",
    "keylength: int = int(len(key))\n",
    "\n",
    "print(f\"Key value in hex bytes:\")\n",
    "for char in key:\n",
    "   print(hex(char), end=\"\") \n",
    "print(f\"\\nKeylength in bytes: {len(key)}\")\n",
    "\n",
    "plaintext: bytes = b\"Attack at dawn\""
   ]
  },
  {
   "cell_type": "markdown",
   "id": "a5c509b6-22bd-46e5-954d-a126f4771bdd",
   "metadata": {},
   "source": [
    "## The Key-Scheduling Algorithm (KSA)\n",
    "\n",
    "Algorithm initializes the permutations for array \"S\" before passing values to Pseudo-Random Generation Algorithm (PRGA)."
   ]
  },
  {
   "cell_type": "code",
   "execution_count": 2,
   "id": "9f9fe58a-0625-4f09-af93-eb8bfe1e13ac",
   "metadata": {},
   "outputs": [],
   "source": [
    "S: list = [] # Array to be permutated\n",
    "for i in range(256): # Populate array with values 0-255\n",
    "    S.append(i)\n",
    "\n",
    "j: int = 0 # Works as the accumulator index to swap values into S\n",
    "\n",
    "for i in range(256): # Algorithm\n",
    "    j = (j + S[i] + key[i % keylength]) % 256\n",
    "    S[i], S[j] = S[j], S[i] # Swaps j value into i value\n",
    "\n",
    "# Note: S is just the internal state, not the keystream\n",
    "    "
   ]
  },
  {
   "cell_type": "markdown",
   "id": "ce1ab930-97f9-46bf-8d2a-5f99ea132a63",
   "metadata": {},
   "source": [
    "## Pseudo-Random Generation Algorithm (PRGA)\n",
    "\n",
    ">\"For as many iterations as are needed, the PRGA modifies the state and outputs a byte of the keystream. In each iteration, the PRGA:\n",
    ">\n",
    ">- increments i;\n",
    ">- looks up the ith element of S, S[i], and adds that to j;\n",
    ">- exchanges the values of S[i] and S[j], then uses the sum S[i] + S[j] (modulo 256) as an index to fetch a third element of S (the keystream value K below);\n",
    ">- then bitwise exclusive ORed (XORed) with the next byte of the message to produce the next byte of either ciphertext or plaintext.\n",
    ">Each element of S is swapped with another element at least once every 256 iterations.\"\n",
    "\n",
    "<p><a href=\"https://commons.wikimedia.org/wiki/File:RC4.svg#/media/File:RC4.svg\"><img src=\"https://upload.wikimedia.org/wikipedia/commons/e/e9/RC4.svg\" alt=\"RC4.svg\" height=\"360\" width=\"805\"></a><br>By Traced by <a href=\"//commons.wikimedia.org/wiki/User:Stannered\" title=\"User:Stannered\">Stannered</a>, original by <a href=\"//commons.wikimedia.org/wiki/User:Matt_Crypto\" title=\"User:Matt Crypto\">Matt Crypto</a> - Own work based on: <a href=\"//commons.wikimedia.org/wiki/File:RC4.png\" title=\"File:RC4.png\">RC4.png</a>, Public Domain, <a href=\"https://commons.wikimedia.org/w/index.php?curid=1816423\">Link</a></p>"
   ]
  },
  {
   "cell_type": "code",
   "execution_count": 3,
   "id": "c36deeee-1a9c-40ac-b44c-f24f87db5c48",
   "metadata": {},
   "outputs": [
    {
     "name": "stdout",
     "output_type": "stream",
     "text": [
      "Keystring (hex): 04D46B053CA87B594172302AEC9B\n",
      "Ciphertext (hex): 45A01F645FC35B383552544B9BF5\n",
      "A\n"
     ]
    }
   ],
   "source": [
    "i: int = 0 # Reset j and initialize i, t, K\n",
    "j = 0 \n",
    "t = 0 \n",
    "K = 0\n",
    "cipher_bytes: list[int] = [] # Creates list(array) to store plaintext XOR K\n",
    "keystream_bytes: list = []\n",
    "\n",
    "for char in plaintext: #Algorithm\n",
    "    i = (i + 1) % 256\n",
    "    j = (j + S[i]) % 256\n",
    "    S[i], S[j] = S[j], S[i] # Swap values\n",
    "    t = (S[i] + S[j]) % 256\n",
    "    K = S[t] \n",
    "\n",
    "    cipher_bytes.append(char ^ K)\n",
    "    keystream_bytes.append(K)\n",
    "    \n",
    "    \n",
    "# Ignore this ugliness for now    \n",
    "keystream: bytes = bytes(keystream_bytes)\n",
    "keystream_hex: hex = keystream.hex()\n",
    "print(f\"Keystring (hex): {keystream_hex.upper()}\")\n",
    "\n",
    "ciphertext: bytes = bytes(cipher_bytes)\n",
    "ciphertext_hex: hex = ciphertext.hex()\n",
    "print(f\"Ciphertext (hex): {ciphertext_hex.upper()}\")\n",
    "\n",
    "print(chr(cipher_bytes[0] ^ keystream_bytes[0]))\n"
   ]
  },
  {
   "cell_type": "code",
   "execution_count": null,
   "id": "4382b4d2-9e0e-43b3-9204-5a8ad01db654",
   "metadata": {},
   "outputs": [],
   "source": []
  }
 ],
 "metadata": {
  "kernelspec": {
   "display_name": "Python 3 (ipykernel)",
   "language": "python",
   "name": "python3"
  },
  "language_info": {
   "codemirror_mode": {
    "name": "ipython",
    "version": 3
   },
   "file_extension": ".py",
   "mimetype": "text/x-python",
   "name": "python",
   "nbconvert_exporter": "python",
   "pygments_lexer": "ipython3",
   "version": "3.13.7"
  }
 },
 "nbformat": 4,
 "nbformat_minor": 5
}
